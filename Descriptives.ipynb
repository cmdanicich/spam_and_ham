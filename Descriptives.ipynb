{
 "cells": [
  {
   "cell_type": "code",
   "execution_count": 22,
   "metadata": {},
   "outputs": [],
   "source": [
    "# Set up\n",
    "import numpy as np\n",
    "\n",
    "from string import punctuation\n",
    "from collections import Counter\n",
    "\n",
    "from nltk.corpus import stopwords\n",
    "\n",
    "sw = stopwords.words('english')"
   ]
  },
  {
   "cell_type": "code",
   "execution_count": 18,
   "metadata": {},
   "outputs": [],
   "source": [
    "# List of HAM message \n",
    "\n",
    "sms_text = \"SMSSpamCollection.txt\"\n",
    "\n",
    "#spam_text = [] \n",
    "#ham_text = []\n",
    "\n",
    "# for idx, row in enumerate :\n",
    "#     if first column is SPAM\n",
    "#     append second column lines to new list called spam_text\n",
    "    \n",
    "#     if first column is HAM \n",
    "#     append second column lines to new list called ham_text"
   ]
  },
  {
   "cell_type": "code",
   "execution_count": null,
   "metadata": {},
   "outputs": [],
   "source": [
    "# Outwrite lists to two new files one for spam text the other ham text \n",
    "# Create headers for outfile\n",
    "header = [\"Message\"]\n",
    "\n",
    "# Write outfile\n",
    "# Code from wiki assignment \n",
    "with open(\"Wiki.txt\",\"w\",encoding = \"UTF-8\") as outfile:\n",
    "    outfile.write(\"\\t\".join(header) + \"\\n\")  \n",
    "    \n",
    "    for row in year_name_occupation:\n",
    "        outfile.write(\"\\t\".join([str(item) for item in row])+ \"\\n\")"
   ]
  },
  {
   "cell_type": "code",
   "execution_count": 27,
   "metadata": {},
   "outputs": [],
   "source": [
    "# Descriptive Stats - SPAM\n",
    "\n",
    "def get_patterns(text)  :\n",
    "\n",
    "    text_clean = text.lower().split()# split on whitespace, shift to lowercase\n",
    "    \n",
    "    text_clean = [w for w in text_clean if w.isalpha() and w not in sw]\n",
    "\n",
    "            \n",
    "# Descriptives\n",
    "    total_tokens = len(text_clean)\n",
    "\n",
    "    unique_tokens = len(set(text_clean))\n",
    "\n",
    "    text_token_len = [len(w) for w in text_clean]\n",
    "    avg_token_len = np.mean(text_token_len)\n",
    "\n",
    "    lex_diversity = len(set(text_clean))/len(text_clean)\n",
    "\n",
    "    text_counter = Counter(text_clean)\n",
    "    top_10 = text_counter.most_common(10)\n",
    "\n",
    "    # Fill in results dictionary\n",
    "    results = {'tokens':total_tokens,\n",
    "               'unique_tokens':unique_tokens,\n",
    "               'avg_token_length':avg_token_len,\n",
    "               'lexical_diversity':lex_diversity,\n",
    "               'top_10':top_10}\n",
    "        \n",
    "    return results"
   ]
  },
  {
   "cell_type": "code",
   "execution_count": 28,
   "metadata": {},
   "outputs": [
    {
     "ename": "ZeroDivisionError",
     "evalue": "division by zero",
     "output_type": "error",
     "traceback": [
      "\u001b[0;31m---------------------------------------------------------------------------\u001b[0m",
      "\u001b[0;31mZeroDivisionError\u001b[0m                         Traceback (most recent call last)",
      "\u001b[0;32m<ipython-input-28-b80f38c7886a>\u001b[0m in \u001b[0;36m<module>\u001b[0;34m\u001b[0m\n\u001b[1;32m      1\u001b[0m \u001b[0;31m# read in text file - SPAM\u001b[0m\u001b[0;34m\u001b[0m\u001b[0;34m\u001b[0m\u001b[0;34m\u001b[0m\u001b[0m\n\u001b[1;32m      2\u001b[0m \u001b[0mSMS\u001b[0m \u001b[0;34m=\u001b[0m \u001b[0mopen\u001b[0m\u001b[0;34m(\u001b[0m\u001b[0;34m\"SMSSpamCollection.txt\"\u001b[0m\u001b[0;34m,\u001b[0m\u001b[0;34m'r'\u001b[0m\u001b[0;34m)\u001b[0m\u001b[0;34m.\u001b[0m\u001b[0mread\u001b[0m\u001b[0;34m(\u001b[0m\u001b[0;34m)\u001b[0m\u001b[0;34m\u001b[0m\u001b[0;34m\u001b[0m\u001b[0m\n\u001b[0;32m----> 3\u001b[0;31m \u001b[0mSMS_results\u001b[0m \u001b[0;34m=\u001b[0m \u001b[0mget_patterns\u001b[0m\u001b[0;34m(\u001b[0m\u001b[0mSMS\u001b[0m\u001b[0;34m)\u001b[0m \u001b[0;31m# call back to function using thorns text\u001b[0m\u001b[0;34m\u001b[0m\u001b[0;34m\u001b[0m\u001b[0m\n\u001b[0m\u001b[1;32m      4\u001b[0m \u001b[0mprint\u001b[0m\u001b[0;34m(\u001b[0m\u001b[0mSMS_results\u001b[0m\u001b[0;34m)\u001b[0m \u001b[0;31m# results\u001b[0m\u001b[0;34m\u001b[0m\u001b[0;34m\u001b[0m\u001b[0m\n",
      "\u001b[0;32m<ipython-input-27-43b89cbf5079>\u001b[0m in \u001b[0;36mget_patterns\u001b[0;34m(text)\u001b[0m\n\u001b[1;32m     16\u001b[0m     \u001b[0mavg_token_len\u001b[0m \u001b[0;34m=\u001b[0m \u001b[0mnp\u001b[0m\u001b[0;34m.\u001b[0m\u001b[0mmean\u001b[0m\u001b[0;34m(\u001b[0m\u001b[0mtext_token_len\u001b[0m\u001b[0;34m)\u001b[0m\u001b[0;34m\u001b[0m\u001b[0;34m\u001b[0m\u001b[0m\n\u001b[1;32m     17\u001b[0m \u001b[0;34m\u001b[0m\u001b[0m\n\u001b[0;32m---> 18\u001b[0;31m     \u001b[0mlex_diversity\u001b[0m \u001b[0;34m=\u001b[0m \u001b[0mlen\u001b[0m\u001b[0;34m(\u001b[0m\u001b[0mset\u001b[0m\u001b[0;34m(\u001b[0m\u001b[0mtext_clean\u001b[0m\u001b[0;34m)\u001b[0m\u001b[0;34m)\u001b[0m\u001b[0;34m/\u001b[0m\u001b[0mlen\u001b[0m\u001b[0;34m(\u001b[0m\u001b[0mtext_clean\u001b[0m\u001b[0;34m)\u001b[0m\u001b[0;34m\u001b[0m\u001b[0;34m\u001b[0m\u001b[0m\n\u001b[0m\u001b[1;32m     19\u001b[0m \u001b[0;34m\u001b[0m\u001b[0m\n\u001b[1;32m     20\u001b[0m     \u001b[0mtext_counter\u001b[0m \u001b[0;34m=\u001b[0m \u001b[0mCounter\u001b[0m\u001b[0;34m(\u001b[0m\u001b[0mtext_clean\u001b[0m\u001b[0;34m)\u001b[0m\u001b[0;34m\u001b[0m\u001b[0;34m\u001b[0m\u001b[0m\n",
      "\u001b[0;31mZeroDivisionError\u001b[0m: division by zero"
     ]
    }
   ],
   "source": [
    "# read in text file - SPAM\n",
    "SMS = open(\"SMSSpamCollection.txt\",'r').read()\n",
    "SMS_results = get_patterns(SMS) # call back to function using thorns text\n",
    "print(SMS_results) # results"
   ]
  }
 ],
 "metadata": {
  "kernelspec": {
   "display_name": "Python 3",
   "language": "python",
   "name": "python3"
  },
  "language_info": {
   "codemirror_mode": {
    "name": "ipython",
    "version": 3
   },
   "file_extension": ".py",
   "mimetype": "text/x-python",
   "name": "python",
   "nbconvert_exporter": "python",
   "pygments_lexer": "ipython3",
   "version": "3.8.3"
  }
 },
 "nbformat": 4,
 "nbformat_minor": 4
}
